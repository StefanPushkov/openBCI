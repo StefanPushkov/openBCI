{
  "nbformat": 4,
  "nbformat_minor": 0,
  "metadata": {
    "colab": {
      "name": "RandomForest_Mark",
      "version": "0.3.2",
      "provenance": [],
      "include_colab_link": true
    },
    "kernelspec": {
      "name": "python3",
      "display_name": "Python 3"
    }
  },
  "cells": [
    {
      "cell_type": "markdown",
      "metadata": {
        "id": "view-in-github",
        "colab_type": "text"
      },
      "source": [
        "<a href=\"https://colab.research.google.com/github/StefanPushkov/Mark_EEG/blob/master/RandomForest_Mark.ipynb\" target=\"_parent\"><img src=\"https://colab.research.google.com/assets/colab-badge.svg\" alt=\"Open In Colab\"/></a>"
      ]
    },
    {
      "cell_type": "code",
      "metadata": {
        "id": "j9sGFA41wqto",
        "colab_type": "code",
        "outputId": "724e690d-ea8c-4703-c26a-c3de7a49e57a",
        "colab": {
          "base_uri": "https://localhost:8080/",
          "height": 1000
        }
      },
      "source": [
        "import numpy as np\n",
        "import pandas as pd\n",
        "from sklearn.metrics import accuracy_score, balanced_accuracy_score\n",
        "from sklearn.model_selection import train_test_split\n",
        "from sklearn.preprocessing import StandardScaler\n",
        "from sklearn.ensemble import RandomForestClassifier\n",
        "from joblib import dump, load\n",
        "\n",
        "\n",
        "def RandomForest_fitting():\n",
        "    # data_processing(cf.raw_data, 29)\n",
        "    # Get csv data\n",
        "    url = 'https://raw.githubusercontent.com/StefanPushkov/Mark_EEG/master/prepared_data/decimal29.csv'\n",
        "    data = pd.read_csv(url)\n",
        "    X = data.drop(['0'], axis=1)\n",
        "    y = data[['0']].values.ravel()\n",
        "\n",
        "    # Feature Scaling\n",
        "    StdScaler = StandardScaler()\n",
        "    X_scaled = StdScaler.fit_transform(X)\n",
        "\n",
        "    # Splitting the dataset into the Training set and Test set\n",
        "    X_Train, x_test, Y_Train, y_test = train_test_split(X_scaled, y, test_size = 0.3, random_state = 0)\n",
        "\n",
        "\n",
        "\n",
        "    # Fitting the classifier into the Training set\n",
        "    clf = RandomForestClassifier(n_estimators = 2000, min_samples_split=2, min_samples_leaf=2,\n",
        "                                 max_features='auto', max_depth=50, bootstrap=False , random_state = 0, verbose=10)\n",
        "\n",
        "    print('RandomForest fitting...')\n",
        "    clf.fit(X_Train ,Y_Train)\n",
        "\n",
        "\n",
        "    # Predicting the test set results\n",
        "    pred = clf.predict(x_test)\n",
        "\n",
        "    # Model Saving\n",
        "    # dump(clf, '../models/RandomForest_model.joblib')\n",
        "\n",
        "    # Testing accuracy\n",
        "    print('Accuracy metrics are evaluated')\n",
        "\n",
        "    # Accuracy\n",
        "    accu_percent = accuracy_score(y_test, pred) * 100\n",
        "    print(\"Accuracy obtained over the whole training set is %0.6f %% .\" % (accu_percent))\n",
        "\n",
        "    # Balanced Accuracy Score\n",
        "    blnc = balanced_accuracy_score(y_test, pred) * 100\n",
        "    print(\"balanced_accuracy_score: %0.6f %% .\" % (blnc))\n",
        "\n",
        "\n",
        "RandomForest_fitting()"
      ],
      "execution_count": 9,
      "outputs": [
        {
          "output_type": "stream",
          "text": [
            "RandomForest fitting...\n"
          ],
          "name": "stdout"
        },
        {
          "output_type": "stream",
          "text": [
            "[Parallel(n_jobs=1)]: Using backend SequentialBackend with 1 concurrent workers.\n"
          ],
          "name": "stderr"
        },
        {
          "output_type": "stream",
          "text": [
            "building tree 1 of 2000\n"
          ],
          "name": "stdout"
        },
        {
          "output_type": "stream",
          "text": [
            "[Parallel(n_jobs=1)]: Done   1 out of   1 | elapsed:    0.8s remaining:    0.0s\n"
          ],
          "name": "stderr"
        },
        {
          "output_type": "stream",
          "text": [
            "building tree 2 of 2000\n"
          ],
          "name": "stdout"
        },
        {
          "output_type": "stream",
          "text": [
            "[Parallel(n_jobs=1)]: Done   2 out of   2 | elapsed:    1.5s remaining:    0.0s\n"
          ],
          "name": "stderr"
        },
        {
          "output_type": "stream",
          "text": [
            "building tree 3 of 2000\n"
          ],
          "name": "stdout"
        },
        {
          "output_type": "stream",
          "text": [
            "[Parallel(n_jobs=1)]: Done   3 out of   3 | elapsed:    2.3s remaining:    0.0s\n"
          ],
          "name": "stderr"
        },
        {
          "output_type": "stream",
          "text": [
            "building tree 4 of 2000\n"
          ],
          "name": "stdout"
        },
        {
          "output_type": "stream",
          "text": [
            "[Parallel(n_jobs=1)]: Done   4 out of   4 | elapsed:    3.1s remaining:    0.0s\n"
          ],
          "name": "stderr"
        },
        {
          "output_type": "stream",
          "text": [
            "building tree 5 of 2000\n"
          ],
          "name": "stdout"
        },
        {
          "output_type": "stream",
          "text": [
            "[Parallel(n_jobs=1)]: Done   5 out of   5 | elapsed:    3.9s remaining:    0.0s\n"
          ],
          "name": "stderr"
        },
        {
          "output_type": "stream",
          "text": [
            "building tree 6 of 2000\n"
          ],
          "name": "stdout"
        },
        {
          "output_type": "stream",
          "text": [
            "[Parallel(n_jobs=1)]: Done   6 out of   6 | elapsed:    4.6s remaining:    0.0s\n"
          ],
          "name": "stderr"
        },
        {
          "output_type": "stream",
          "text": [
            "building tree 7 of 2000\n"
          ],
          "name": "stdout"
        },
        {
          "output_type": "stream",
          "text": [
            "[Parallel(n_jobs=1)]: Done   7 out of   7 | elapsed:    5.4s remaining:    0.0s\n"
          ],
          "name": "stderr"
        },
        {
          "output_type": "stream",
          "text": [
            "building tree 8 of 2000\n"
          ],
          "name": "stdout"
        },
        {
          "output_type": "stream",
          "text": [
            "[Parallel(n_jobs=1)]: Done   8 out of   8 | elapsed:    6.2s remaining:    0.0s\n"
          ],
          "name": "stderr"
        },
        {
          "output_type": "stream",
          "text": [
            "building tree 9 of 2000\n"
          ],
          "name": "stdout"
        },
        {
          "output_type": "stream",
          "text": [
            "[Parallel(n_jobs=1)]: Done   9 out of   9 | elapsed:    7.0s remaining:    0.0s\n"
          ],
          "name": "stderr"
        },
        {
          "output_type": "stream",
          "text": [
            
          ],
          "name": "stdout"
        },
        {
          "output_type": "stream",
          "text": [
            "[Parallel(n_jobs=1)]: Done 2000 out of 2000 | elapsed: 25.7min finished\n",
            "[Parallel(n_jobs=1)]: Using backend SequentialBackend with 1 concurrent workers.\n",
            "[Parallel(n_jobs=1)]: Done   1 out of   1 | elapsed:    0.0s remaining:    0.0s\n",
            "[Parallel(n_jobs=1)]: Done   2 out of   2 | elapsed:    0.0s remaining:    0.0s\n",
            "[Parallel(n_jobs=1)]: Done   3 out of   3 | elapsed:    0.0s remaining:    0.0s\n",
            "[Parallel(n_jobs=1)]: Done   4 out of   4 | elapsed:    0.1s remaining:    0.0s\n",
            "[Parallel(n_jobs=1)]: Done   5 out of   5 | elapsed:    0.1s remaining:    0.0s\n",
            "[Parallel(n_jobs=1)]: Done   6 out of   6 | elapsed:    0.1s remaining:    0.0s\n",
            "[Parallel(n_jobs=1)]: Done   7 out of   7 | elapsed:    0.1s remaining:    0.0s\n",
            "[Parallel(n_jobs=1)]: Done   8 out of   8 | elapsed:    0.1s remaining:    0.0s\n",
            "[Parallel(n_jobs=1)]: Done   9 out of   9 | elapsed:    0.1s remaining:    0.0s\n",
            "[Parallel(n_jobs=1)]: Done 2000 out of 2000 | elapsed:   31.7s finished\n"
          ],
          "name": "stderr"
        },
        {
          "output_type": "stream",
          "text": [
            "Accuracy metrics are evaluated\n",
            "Accuracy obtained over the whole training set is 98.389822 % .\n",
            "balanced_accuracy_score: 98.400838 % .\n"
          ],
          "name": "stdout"
        }
      ]
    }
  ]
}
